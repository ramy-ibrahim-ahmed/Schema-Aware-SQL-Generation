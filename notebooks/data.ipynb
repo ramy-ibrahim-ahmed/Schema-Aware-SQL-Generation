{
 "cells": [
  {
   "cell_type": "code",
   "execution_count": null,
   "id": "ac54aaa8",
   "metadata": {},
   "outputs": [],
   "source": [
    "from datasets import load_dataset\n",
    "\n",
    "dataset = load_dataset(\n",
    "    path=\"gretelai/synthetic_text_to_sql\",\n",
    "    cache_dir=\"./data/original\",\n",
    ")\n",
    "dataset"
   ]
  },
  {
   "cell_type": "code",
   "execution_count": null,
   "id": "1421f97c",
   "metadata": {},
   "outputs": [],
   "source": [
    "def create_chat(example):\n",
    "    prompt = \"You are a SQL assistant\"\n",
    "    user = f\"{example['sql_prompt']}\\n\\nDatabase schema:\\n{example['sql_context']}\"\n",
    "    chat = [\n",
    "        {\"content\": prompt, \"role\": \"system\"},\n",
    "        {\"content\": user, \"role\": \"user\"},\n",
    "        {\"content\": example[\"sql\"], \"role\": \"assistant\"},\n",
    "    ]\n",
    "    example[\"messages\"] = chat\n",
    "    return example\n",
    "\n",
    "\n",
    "dataset = dataset.map(create_chat)\n",
    "new = dataset.select_columns([\"messages\"])\n",
    "new.save_to_disk(\"./data/sql_chats\")"
   ]
  },
  {
   "cell_type": "code",
   "execution_count": null,
   "id": "1002e5a7",
   "metadata": {},
   "outputs": [],
   "source": [
    "new.column_names"
   ]
  },
  {
   "cell_type": "code",
   "execution_count": null,
   "id": "1750745c",
   "metadata": {},
   "outputs": [],
   "source": [
    "new"
   ]
  },
  {
   "cell_type": "code",
   "execution_count": null,
   "id": "496d1190",
   "metadata": {},
   "outputs": [],
   "source": [
    "new[\"train\"][0]"
   ]
  }
 ],
 "metadata": {
  "kernelspec": {
   "display_name": ".venv (3.11.9)",
   "language": "python",
   "name": "python3"
  },
  "language_info": {
   "codemirror_mode": {
    "name": "ipython",
    "version": 3
   },
   "file_extension": ".py",
   "mimetype": "text/x-python",
   "name": "python",
   "nbconvert_exporter": "python",
   "pygments_lexer": "ipython3",
   "version": "3.11.9"
  }
 },
 "nbformat": 4,
 "nbformat_minor": 5
}
